{
  "nbformat": 4,
  "nbformat_minor": 0,
  "metadata": {
    "colab": {
      "provenance": [],
      "authorship_tag": "ABX9TyMAT7Gu3AOC8iIm5ogPp4yZ",
      "include_colab_link": true
    },
    "kernelspec": {
      "name": "python3",
      "display_name": "Python 3"
    },
    "language_info": {
      "name": "python"
    }
  },
  "cells": [
    {
      "cell_type": "markdown",
      "metadata": {
        "id": "view-in-github",
        "colab_type": "text"
      },
      "source": [
        "<a href=\"https://colab.research.google.com/github/RenukaGourigari30/Diabetes-prediction/blob/main/votingclassifier.ipynb\" target=\"_parent\"><img src=\"https://colab.research.google.com/assets/colab-badge.svg\" alt=\"Open In Colab\"/></a>"
      ]
    },
    {
      "cell_type": "code",
      "execution_count": null,
      "metadata": {
        "id": "512cN2DK15mh",
        "colab": {
          "base_uri": "https://localhost:8080/"
        },
        "collapsed": true,
        "outputId": "bd8e9624-70f8-497a-e785-ae7979edbca6"
      },
      "outputs": [
        {
          "output_type": "stream",
          "name": "stdout",
          "text": [
            "Collecting streamlit\n",
            "  Downloading streamlit-1.48.0-py3-none-any.whl.metadata (9.5 kB)\n",
-packages (from altair!=5.4.0,!=5.4.1,<6,>=4.0->streamlit) (3.1.6)\n",
\n",
            "Successfully installed pydeck-0.9.1 streamlit-1.48.0 watchdog-6.0.0\n"
          ]
        }
      ],
      "source": [
        "%pip install streamlit\n",
        "import pandas as pd\n",
        "import streamlit as st\n",
        "from sklearn.ensemble import VotingClassifier\n",
        "import pickle\n",
        "from pickle import load"
      ]
    },
    {
      "cell_type": "code",
      "source": [
        "st.title(\"Model Deployment: Voting Classifier\")\n",
        "st.sidebar.header(\"User Input Parameters\")\n",
        "\n",
        "def user_input_features():\n",
        "  pregnancies = st.sidebar.number_input(\"Pregnancies\", min_value=0)\n",
        "  glucose = st.sidebar.number_input(\"Glucose\", min_value=0)\n",
        "  blood_pressure = st.sidebar.number_input(\"BloodPressure\", min_value=0)\n",
        "  skin_thickness = st.sidebar.number_input(\"SkinThickness\", min_value=0)\n",
        "  insulin = st.sidebar.number_input(\"Insulin\", min_value=0)\n",
        "  bmi = st.sidebar.number_input(\"BMI\", min_value=0.0)\n",
        "  dpf = st.sidebar.number_input(\"DiabetesPedigreeFunction\", min_value=0.0)\n",
        "  age = st.sidebar.number_input(\"Age\", min_value=0, max_value=100, step=1)\n",
        "\n",
        "\n",
        "  data ={'Pregnancies': pregnancies,\n",
        "         'Glucose': glucose,\n",
        "         'BloodPressure': blood_pressure,\n",
        "         'SkinThickness': skin_thickness,\n",
        "         'Insulin': insulin,\n",
        "         'BMI': bmi,\n",
        "         'DiabetesPedigreeFunction': dpf,\n",
        "         'Age': age}\n",
        "  features = pd.DataFrame(data,index=[0])\n",
        "  return features"
      ],
      "metadata": {
        "colab": {
          "base_uri": "https://localhost:8080/"
        },
        "collapsed": true,
        "id": "HQH3rM1E3uAB",
        "outputId": "90ec0a48-941b-4cad-fcc7-56ed5bfcb46c"
      },
      "execution_count": null,
      "outputs": [
        {
          "output_type": "stream",
          "name": "stderr",
          "text": [
            "2025-08-11 14:16:40.505 WARNING streamlit.runtime.scriptrunner_utils.script_run_context: Thread 'MainThread': missing ScriptRunContext! This warning can be ignored when running in bare mode.\n",
            "2025-08-11 14:16:40.807 \n",
            "  \u001b[33m\u001b[1mWarning:\u001b[0m to view this Streamlit app on a browser, run it with the following\n",
            "  command:\n",
            "\n",
        }
      ]
    },
    {
      "cell_type": "code",
      "source": [
        "df=user_input_features()\n",
        "st.subheader(\"User Input Parameters\")\n",
        "st.write(df)\n",
        "# load model\n",
        "with open(\"model.pkl\", \"rb\") as file:\n",
        "    clf = pickle.load(file)\n",
        " # predict\n",
        "predictions = clf.predict(df)\n",
        "st.subheader(\"predicted result\")\n",
        "st.write('yes' if predictions[0] == 1 else 'No')"
      ],
      "metadata": {
        "id": "Et5HstYiD9g0",
        "colab": {
          "base_uri": "https://localhost:8080/"
        },
        "collapsed": true,
        "outputId": "e0569921-941a-43ab-a08d-bac60e11d0ad"
      },
      "execution_count": null,
      "outputs": [
        {
          "output_type": "stream",
          "name": "stderr",
          "text": [
            
      ]
    },
    {
      "cell_type": "code",
      "metadata": {
        "colab": {
          "base_uri": "https://localhost:8080/"
        },
        "id": "7f6fc8be",
        "outputId": "964e912d-476f-4cc4-898b-2bec22d20af6"
      },
      "source": [
        "st.title(\"Model Deployment: Voting Classifier\")\n",
        "st.sidebar.header(\"User Input Parameters\")\n",
        "\n",
        "def user_input_features():\n",
        "  pregnancies = st.sidebar.number_input(\"Pregnancies\", min_value=0)\n",
        "  glucose = st.sidebar.number_input(\"Glucose\", min_value=0)\n",
        "  blood_pressure = st.sidebar.number_input(\"BloodPressure\", min_value=0)\n",
        "  skin_thickness = st.sidebar.number_input(\"SkinThickness\", min_value=0)\n",
        "  insulin = st.sidebar.number_input(\"Insulin\", min_value=0)\n",
        "  bmi = st.sidebar.number_input(\"BMI\", min_value=0.0)\n",
        "  dpf = st.sidebar.number_input(\"DiabetesPedigreeFunction\", min_value=0.0)\n",
        "  age = st.sidebar.number_input(\"Age\", min_value=0, max_value=100, step=1)\n",
        "\n",
        "\n",
        "  data ={'Pregnancies': pregnancies,\n",
        "         'Glucose': glucose,\n",
        "         'BloodPressure': blood_pressure,\n",
        "         'SkinThickness': skin_thickness,\n",
        "         'Insulin': insulin,\n",
        "         'BMI': bmi,\n",
        "         'DiabetesPedigreeFunction': dpf,\n",
        "         'Age': age}\n",
        "  features = pd.DataFrame(data,index=[0])\n",
        "  return features"
      ],
      "execution_count": null,
      "outputs": [
        {
          "output_type": "stream",
          "name": "stderr",
          "text": [
            
        }
      ]
    }
  ]
}
